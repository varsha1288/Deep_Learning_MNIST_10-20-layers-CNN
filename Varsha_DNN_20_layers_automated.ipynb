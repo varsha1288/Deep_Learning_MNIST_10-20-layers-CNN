{
 "cells": [
  {
   "cell_type": "code",
   "execution_count": 16,
   "metadata": {},
   "outputs": [],
   "source": [
    "import numpy as np\n",
    "import matplotlib.cm as cm\n",
    "import mpl_toolkits.mplot3d.axes3d as axes3d\n",
    "import scipy.interpolate as interpolate\n",
    "import tensorflow as tf\n",
    "\n",
    "from numpy  import array\n",
    "from matplotlib import pyplot as plt\n",
    "from keras.datasets import mnist\n",
    "from keras.models import Sequential, clone_model\n",
    "from keras.layers.core import Dense, Activation\n",
    "from keras.optimizers import Adam\n",
    "from keras.utils import np_utils"
   ]
  },
  {
   "cell_type": "markdown",
   "metadata": {},
   "source": [
    "#### Define Variables"
   ]
  },
  {
   "cell_type": "code",
   "execution_count": 17,
   "metadata": {},
   "outputs": [],
   "source": [
    "batch_size = 256\n",
    "vector_size = 784  # 28 * 28 pixels\n",
    "nbr_classes = 10   # 10 distinct digits\n",
    "nbr_epochs = 50\n",
    "\n",
    "np.random.seed(21) "
   ]
  },
  {
   "cell_type": "markdown",
   "metadata": {},
   "source": [
    "#### Define Helper Functions"
   ]
  },
  {
   "cell_type": "code",
   "execution_count": 18,
   "metadata": {},
   "outputs": [],
   "source": [
    "def visualize_1d_loss_function(model1d, a_start, a_end, a_cnt):\n",
    "    losses = []\n",
    "    accurs = []\n",
    "    mu_w, sigma_w = 0, 1\n",
    "   \n",
    "    # Retrieve initial weights\n",
    "    initial_weights = []\n",
    "    for layer in model1d.layers:\n",
    "        initial_weights.append(layer.get_weights())\n",
    "    \n",
    "    theta_i_weights = []\n",
    "    for layer in model1d.layers:\n",
    "        weights_layer = layer.get_weights()\n",
    "        new_weights = []\n",
    "        for weight in weights_layer:\n",
    "            new_weights.append(np.random.normal(mu_w,sigma_w,size=weight.shape))\n",
    "        theta_i_weights.append(new_weights)\n",
    "        \n",
    "    alpha_range = np.linspace(a_start, a_end, a_cnt)\n",
    "    for alpha in (alpha_range):\n",
    "        for i, layer in enumerate(model1d.layers):\n",
    "            new_weights = []\n",
    "            for j, theta_f_weights in enumerate(initial_weights[i]):\n",
    "#           θα = (1 − α)θi + αθf \n",
    "                new_weights.append((((1-alpha)*(theta_i_weights[i][j])) + (alpha)*theta_f_weights))\n",
    "            layer.set_weights(new_weights)\n",
    "        score = model1d.evaluate(X_test, Y_test, verbose=0)\n",
    "        losses.append(score[0])\n",
    "        accurs.append(score[1])\n",
    "\n",
    "    plt_title = 'DNN Model 1D Loss Function Visualization \\nAlpha Values = Linespace: ' + str(a_start) + ',' + str(a_end) + ',' + str(a_cnt)\n",
    "    plt.figure()\n",
    "    fig, ax1 = plt.subplots(figsize=(10,6))\n",
    "    ax1.plot(alpha_range, losses, 'r-');\n",
    "    ax1.set_xlabel('Alpha')\n",
    "    ax1.set_ylabel('Alpha generated Loss', color='r')\n",
    "    ax1.tick_params('y', colors='r')\n",
    "    ax2 = ax1.twinx()\n",
    "    ax2.plot(alpha_range, accurs, 'g-');\n",
    "    ax2.set_ylabel('Test Accuracy', color='g')\n",
    "    ax2.tick_params('y', colors='g')\n",
    "    plt.title(plt_title)\n",
    "    plt.show();\n",
    "    \n",
    "    \n",
    "def visualize_2d_loss_function(model2d, start, end, size):\n",
    "    losses = []\n",
    "    accurs = []\n",
    "    loss_2d = []\n",
    "    loss_2d_start = start\n",
    "    loss_2d_end = end\n",
    "    loss_2d_size = size\n",
    "    mu_w, sigma_w = 0, 1\n",
    "    \n",
    "    # Retrieve initial weights\n",
    "    initial_weights = []\n",
    "    for layer in model2d.layers:\n",
    "        initial_weights.append(layer.get_weights())\n",
    "\n",
    "    # αδ\n",
    "    alpha_vals = np.linspace(loss_2d_start,loss_2d_end,loss_2d_size)\n",
    "    sigma_weights = []\n",
    "    for layer in model2d.layers:\n",
    "        weights_layer = layer.get_weights()\n",
    "        new_weights = []\n",
    "        for weight in weights_layer:\n",
    "            new_weights.append(np.random.normal(mu_w, sigma_w, size = weight.shape))\n",
    "        sigma_weights.append(new_weights)\n",
    "\n",
    "# βη\n",
    "    beta_vals = np.linspace(loss_2d_start,loss_2d_end,loss_2d_size)\n",
    "    nu_weights = []\n",
    "    for layer in model2d.layers:\n",
    "        weights_layer = layer.get_weights()\n",
    "        new_weights = []\n",
    "        for weight in weights_layer:\n",
    "            new_weights.append(np.random.normal(mu_w, sigma_w, size = weight.shape))\n",
    "        nu_weights.append(new_weights)\n",
    "\n",
    "# iterate loss function\n",
    "    loss_2d = np.zeros([loss_2d_size,loss_2d_size])\n",
    "    for a in range(loss_2d_size):\n",
    "        for b in range(loss_2d_size):\n",
    "            ax = alpha_vals[a]\n",
    "            bx = beta_vals[b]\n",
    "            for i, layer in enumerate(model2d.layers):\n",
    "                new_weights = []\n",
    "                for j, theta_f_weights in enumerate(initial_weights[i]):\n",
    "#               θ′ = θ∗ + αδ + βη\n",
    "                     new_weights.append(theta_f_weights + (ax*nu_weights[i][j]) + (bx*sigma_weights[i][j]))\n",
    "                layer.set_weights(new_weights)\n",
    "            score = model2d.evaluate(X_test, Y_test, verbose=0)\n",
    "            losses.append(score[0])\n",
    "            loss_2d[a, b] =  score[0]\n",
    " \n",
    "    plt_title = 'DNN Model 2D Loss Function Visualization \\nAlpha,Beta Values: ' + str(start) + ',' + str(end) + ',' + str(size)\n",
    "    plt.figure(figsize=(14,6))\n",
    "    levels = np.arange(.5,2,20)\n",
    "    norm = cm.colors.Normalize(vmax=abs(loss_2d).max(), vmin=-abs(loss_2d).max())\n",
    "    cmap = cm.PRGn\n",
    "    loss_2d_plot = plt.contour(alpha_vals, beta_vals, loss_2d, norm=norm,\n",
    "                     linestyles=('-',),linewidths=(2,))\n",
    "    plt.clabel(loss_2d_plot, fontsize=12, inline=1)\n",
    "    plt.title(plt_title)\n",
    "    plt.ylabel('Beta')\n",
    "\n",
    "    plt.show();"
   ]
  },
  {
   "cell_type": "markdown",
   "metadata": {},
   "source": [
    "#### Load MNIST Data; create test and train datasets"
   ]
  },
  {
   "cell_type": "code",
   "execution_count": 19,
   "metadata": {},
   "outputs": [
    {
     "name": "stdout",
     "output_type": "stream",
     "text": [
      "60000 train samples\n",
      "10000 test samples\n"
     ]
    }
   ],
   "source": [
    "# the data, shuffled and split between train and test sets\n",
    "(X_train, y_train), (X_test, y_test) = mnist.load_data()\n",
    " \n",
    "X_train = X_train.reshape(60000, vector_size)\n",
    "X_test = X_test.reshape(10000, vector_size)\n",
    "X_train = X_train.astype('float32')\n",
    "X_test = X_test.astype('float32')\n",
    "X_train /= 255\n",
    "X_test /= 255\n",
    "print(X_train.shape[0], 'train samples')\n",
    "print(X_test.shape[0], 'test samples')\n",
    " \n",
    "# convert class vectors to binary class matrices\n",
    "Y_train = np_utils.to_categorical(y_train, nbr_classes)\n",
    "Y_test = np_utils.to_categorical(y_test, nbr_classes)"
   ]
  },
  {
   "cell_type": "markdown",
   "metadata": {},
   "source": [
    "#### Define Simple DNN - 2 Hidden Layers of 100 and 30 neurons; relu and softmax activation; Adam optimization "
   ]
  },
  {
   "cell_type": "code",
   "execution_count": 20,
   "metadata": {},
   "outputs": [
    {
     "name": "stdout",
     "output_type": "stream",
     "text": [
      "_________________________________________________________________\n",
      "Layer (type)                 Output Shape              Param #   \n",
      "=================================================================\n",
      "dense_18 (Dense)             (None, 100)               78500     \n",
      "_________________________________________________________________\n",
      "dense_19 (Dense)             (None, 30)                3030      \n",
      "_________________________________________________________________\n",
      "dense_20 (Dense)             (None, 30)                930       \n",
      "_________________________________________________________________\n",
      "dense_21 (Dense)             (None, 30)                930       \n",
      "_________________________________________________________________\n",
      "dense_22 (Dense)             (None, 30)                930       \n",
      "_________________________________________________________________\n",
      "dense_23 (Dense)             (None, 30)                930       \n",
      "_________________________________________________________________\n",
      "dense_24 (Dense)             (None, 30)                930       \n",
      "_________________________________________________________________\n",
      "dense_25 (Dense)             (None, 30)                930       \n",
      "_________________________________________________________________\n",
      "dense_26 (Dense)             (None, 30)                930       \n",
      "_________________________________________________________________\n",
      "dense_27 (Dense)             (None, 30)                930       \n",
      "_________________________________________________________________\n",
      "dense_28 (Dense)             (None, 30)                930       \n",
      "_________________________________________________________________\n",
      "dense_29 (Dense)             (None, 30)                930       \n",
      "_________________________________________________________________\n",
      "dense_30 (Dense)             (None, 30)                930       \n",
      "_________________________________________________________________\n",
      "dense_31 (Dense)             (None, 30)                930       \n",
      "_________________________________________________________________\n",
      "dense_32 (Dense)             (None, 30)                930       \n",
      "_________________________________________________________________\n",
      "dense_33 (Dense)             (None, 30)                930       \n",
      "_________________________________________________________________\n",
      "dense_34 (Dense)             (None, 30)                930       \n",
      "_________________________________________________________________\n",
      "dense_35 (Dense)             (None, 30)                930       \n",
      "_________________________________________________________________\n",
      "dense_36 (Dense)             (None, 30)                930       \n",
      "_________________________________________________________________\n",
      "dense_37 (Dense)             (None, 30)                930       \n",
      "_________________________________________________________________\n",
      "dense_38 (Dense)             (None, 30)                930       \n",
      "_________________________________________________________________\n",
      "dense_39 (Dense)             (None, 10)                310       \n",
      "_________________________________________________________________\n",
      "activation_3 (Activation)    (None, 10)                0         \n",
      "=================================================================\n",
      "Total params: 99,510\n",
      "Trainable params: 99,510\n",
      "Non-trainable params: 0\n",
      "_________________________________________________________________\n",
      "**********************************************************\n",
      "*** DNN 2 Hidden Layer Model Test loss: 0.13599812500430272\n",
      "*** DNN 2 Hidden Model Test accuracy: 0.9705\n",
      "**********************************************************\n"
     ]
    }
   ],
   "source": [
    "layers2_model = Sequential()\n",
    "layers2_model.add(Dense(100, input_shape=(784,), activation='relu'))\n",
    "layers2_model.add(Dense(30, activation='relu'))\n",
    "layers2_model.add(Dense(30, activation='relu'))\n",
    "layers2_model.add(Dense(30, activation='relu'))\n",
    "layers2_model.add(Dense(30, activation='relu'))\n",
    "layers2_model.add(Dense(30, activation='relu'))\n",
    "layers2_model.add(Dense(30, activation='relu'))\n",
    "layers2_model.add(Dense(30, activation='relu'))\n",
    "layers2_model.add(Dense(30, activation='relu'))\n",
    "layers2_model.add(Dense(30, activation='relu'))\n",
    "layers2_model.add(Dense(30, activation='relu'))\n",
    "layers2_model.add(Dense(30, activation='relu'))\n",
    "layers2_model.add(Dense(30, activation='relu'))\n",
    "layers2_model.add(Dense(30, activation='relu'))\n",
    "layers2_model.add(Dense(30, activation='relu'))\n",
    "layers2_model.add(Dense(30, activation='relu'))\n",
    "layers2_model.add(Dense(30, activation='relu'))\n",
    "layers2_model.add(Dense(30, activation='relu'))\n",
    "layers2_model.add(Dense(30, activation='relu'))\n",
    "layers2_model.add(Dense(30, activation='relu'))\n",
    "layers2_model.add(Dense(30, activation='relu'))\n",
    "\n",
    "\n",
    "layers2_model.add(Dense(nbr_classes))\n",
    "layers2_model.add(Activation('softmax'))\n",
    "\n",
    "layers2_model.compile(loss='categorical_crossentropy',optimizer=Adam(),metrics=['accuracy'])\n",
    "\n",
    "layers2_model.summary()\n",
    "\n",
    "layers2_model.fit(X_train, Y_train,\n",
    "          batch_size=batch_size,\n",
    "          epochs=nbr_epochs,\n",
    "          verbose=0,\n",
    "          validation_data=(X_test, Y_test))\n",
    "\n",
    "score = layers2_model.evaluate(X_test, Y_test, verbose=0)\n",
    "layers2_clone = clone_model(layers2_model.model)\n",
    "layers2_clone.set_weights(layers2_model.get_weights())\n",
    "\n",
    "print('**********************************************************')\n",
    "print('*** DNN 2 Hidden Layer Model Test loss:', score[0])\n",
    "print('*** DNN 2 Hidden Model Test accuracy:', score[1])\n",
    "print('**********************************************************')"
   ]
  },
  {
   "cell_type": "markdown",
   "metadata": {},
   "source": [
    "#### Visualize 1D Loss Function"
   ]
  },
  {
   "cell_type": "markdown",
   "metadata": {},
   "source": [
    "One simple and lightweight method to plot loss function is to choose two sets of parameters θi and θf , and plot the values of the loss function L(θ) along the line connecting these two sets. We can parameterize this line by choosing a scalar parameter α and defining the weighted average θα = (1 − α)θi + αθf , and compute the function f(θ) = L(θα). Here we choose θi as the randomly assigned initial weights and θf the final well-trained model weights in Part (1) above (global minimum, hopefully)."
   ]
  },
  {
   "cell_type": "code",
   "execution_count": 21,
   "metadata": {},
   "outputs": [
    {
     "data": {
      "text/plain": [
       "<Figure size 432x288 with 0 Axes>"
      ]
     },
     "metadata": {},
     "output_type": "display_data"
    },
    {
     "data": {
      "image/png": "[encoded data removed]",
      "text/plain": [
       "<Figure size 720x432 with 2 Axes>"
      ]
     },
     "metadata": {
      "needs_background": "light"
     },
     "output_type": "display_data"
    }
   ],
   "source": [
    "alpha_start = 0\n",
    "alpha_end = 10\n",
    "alpha_samples = 100\n",
    "visualize_1d_loss_function(layers2_model, alpha_start, alpha_end, alpha_samples)"
   ]
  },
  {
   "cell_type": "markdown",
   "metadata": {},
   "source": [
    "#### 2D Loss Visualization"
   ]
  },
  {
   "cell_type": "markdown",
   "metadata": {},
   "source": [
    "Given the well trained model θ∗ and global minimum L(θ∗) \n",
    "obtained before, generate two random vectors δ and η that have the same length of θ \n",
    "and with proper normalization. Calculate θ′ = θ∗ + αδ + βη, and \n",
    "then evaluate the loss function L(θ′) and display it in (α,β)-space around its origin, \n",
    "which corresponds to the global minimum."
   ]
  },
  {
   "cell_type": "code",
   "execution_count": 22,
   "metadata": {},
   "outputs": [
    {
     "name": "stdout",
     "output_type": "stream",
     "text": [
      "_________________________________________________________________\n",
      "Layer (type)                 Output Shape              Param #   \n",
      "=================================================================\n",
      "dense_18 (Dense)             (None, 100)               78500     \n",
      "_________________________________________________________________\n",
      "dense_19 (Dense)             (None, 30)                3030      \n",
      "_________________________________________________________________\n",
      "dense_20 (Dense)             (None, 30)                930       \n",
      "_________________________________________________________________\n",
      "dense_21 (Dense)             (None, 30)                930       \n",
      "_________________________________________________________________\n",
      "dense_22 (Dense)             (None, 30)                930       \n",
      "_________________________________________________________________\n",
      "dense_23 (Dense)             (None, 30)                930       \n",
      "_________________________________________________________________\n",
      "dense_24 (Dense)             (None, 30)                930       \n",
      "_________________________________________________________________\n",
      "dense_25 (Dense)             (None, 30)                930       \n",
      "_________________________________________________________________\n",
      "dense_26 (Dense)             (None, 30)                930       \n",
      "_________________________________________________________________\n",
      "dense_27 (Dense)             (None, 30)                930       \n",
      "_________________________________________________________________\n",
      "dense_28 (Dense)             (None, 30)                930       \n",
      "_________________________________________________________________\n",
      "dense_29 (Dense)             (None, 30)                930       \n",
      "_________________________________________________________________\n",
      "dense_30 (Dense)             (None, 30)                930       \n",
      "_________________________________________________________________\n",
      "dense_31 (Dense)             (None, 30)                930       \n",
      "_________________________________________________________________\n",
      "dense_32 (Dense)             (None, 30)                930       \n",
      "_________________________________________________________________\n",
      "dense_33 (Dense)             (None, 30)                930       \n",
      "_________________________________________________________________\n",
      "dense_34 (Dense)             (None, 30)                930       \n",
      "_________________________________________________________________\n",
      "dense_35 (Dense)             (None, 30)                930       \n",
      "_________________________________________________________________\n",
      "dense_36 (Dense)             (None, 30)                930       \n",
      "_________________________________________________________________\n",
      "dense_37 (Dense)             (None, 30)                930       \n",
      "_________________________________________________________________\n",
      "dense_38 (Dense)             (None, 30)                930       \n",
      "_________________________________________________________________\n",
      "dense_39 (Dense)             (None, 10)                310       \n",
      "_________________________________________________________________\n",
      "activation_3 (Activation)    (None, 10)                0         \n",
      "=================================================================\n",
      "Total params: 99,510\n",
      "Trainable params: 99,510\n",
      "Non-trainable params: 0\n",
      "_________________________________________________________________\n"
     ]
    },
    {
     "data": {
      "image/png": "[encoded data removed]",
      "text/plain": [
       "<Figure size 1008x432 with 1 Axes>"
      ]
     },
     "metadata": {
      "needs_background": "light"
     },
     "output_type": "display_data"
    }
   ],
   "source": [
    "layers2_clone.compile(loss='categorical_crossentropy',optimizer=Adam(),metrics=['accuracy'])\n",
    "layers2_clone.summary()\n",
    "loss_start = -1\n",
    "loss_end = 1\n",
    "loss_samples = 25\n",
    "visualize_2d_loss_function(layers2_clone, loss_start, loss_end, loss_samples)"
   ]
  },
  {
   "cell_type": "code",
   "execution_count": null,
   "metadata": {},
   "outputs": [],
   "source": []
  },
  {
   "cell_type": "code",
   "execution_count": null,
   "metadata": {},
   "outputs": [],
   "source": []
  },
  {
   "cell_type": "code",
   "execution_count": null,
   "metadata": {},
   "outputs": [],
   "source": []
  }
 ],
 "metadata": {
  "kernelspec": {
   "display_name": "Python 3",
   "language": "python",
   "name": "python3"
  },
  "language_info": {
   "codemirror_mode": {
    "name": "ipython",
    "version": 3
   },
   "file_extension": ".py",
   "mimetype": "text/x-python",
   "name": "python",
   "nbconvert_exporter": "python",
   "pygments_lexer": "ipython3",
   "version": "3.6.6"
  }
 },
 "nbformat": 4,
 "nbformat_minor": 2
}
